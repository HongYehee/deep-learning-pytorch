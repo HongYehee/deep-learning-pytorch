{
 "cells": [
  {
   "cell_type": "markdown",
   "metadata": {},
   "source": [
    "### Cat and Dog Classification"
   ]
  },
  {
   "cell_type": "code",
   "execution_count": 1,
   "metadata": {},
   "outputs": [],
   "source": [
    "# import libraries\n",
    "import torch\n",
    "from torch.optim import Adam\n",
    "from torch.nn import Linear, Sigmoid, BCELoss, Module, Softmax, ReLU, CrossEntropyLoss, Conv2d, MaxPool2d\n",
    "import torch.nn as nn\n",
    "import torch.nn.functional as F\n",
    "from torch.utils.data import TensorDataset, DataLoader\n",
    "\n",
    "from torchvision import datasets, transforms\n",
    "from torchvision.datasets import ImageFolder\n",
    "\n",
    "from sklearn.metrics import accuracy_score, f1_score, confusion_matrix\n",
    "from sklearn.model_selection import train_test_split"
   ]
  },
  {
   "cell_type": "code",
   "execution_count": 2,
   "metadata": {},
   "outputs": [
    {
     "name": "stdout",
     "output_type": "stream",
     "text": [
      "Dataset ImageFolder\n",
      "    Number of datapoints: 20\n",
      "    Root location: data\n",
      "    StandardTransform\n",
      "Transform: Compose(\n",
      "               Resize(size=(98, 98), interpolation=PIL.Image.BILINEAR)\n",
      "               ToTensor()\n",
      "           ) \n",
      "\n",
      "- number of images: 20\n",
      "- class: ['cat', 'dog']\n",
      "- x_data size: torch.Size([20, 3, 98, 98])\n",
      "- y_data: tensor([0, 0, 1, 1, 1, 0, 0, 0, 1, 1, 0, 0, 1, 0, 0, 1, 1, 1, 1, 0])\n"
     ]
    }
   ],
   "source": [
    "# load data\n",
    "transform = transforms.Compose([\n",
    "    transforms.Resize((98, 98)),\n",
    "    transforms.ToTensor()\n",
    "])\n",
    "\n",
    "dataset = ImageFolder(root='data', transform=transform)\n",
    "\n",
    "print(dataset, '\\n')\n",
    "print('- number of images:', len(dataset))\n",
    "print('- class:', dataset.classes)\n",
    "\n",
    "dataloader = DataLoader(dataset, batch_size=20, shuffle=True)\n",
    "\n",
    "for x_data, y_data in dataloader:\n",
    "    print('- x_data size:', x_data.shape)\n",
    "    print('- y_data:', y_data)"
   ]
  },
  {
   "cell_type": "code",
   "execution_count": 9,
   "metadata": {},
   "outputs": [
    {
     "name": "stdout",
     "output_type": "stream",
     "text": [
      "torch.Size([1, 10, 89, 89])\n"
     ]
    },
    {
     "data": {
      "text/plain": [
       "79210"
      ]
     },
     "execution_count": 9,
     "metadata": {},
     "output_type": "execute_result"
    }
   ],
   "source": [
    "example_img = torch.zeros(1, 3, 98, 98)\n",
    "\n",
    "conv1 = Conv2d(in_channels=3, out_channels=3, kernel_size=5, stride=1)\n",
    "x = conv1(example_img)\n",
    "\n",
    "conv2 = Conv2d(in_channels=3, out_channels=10, kernel_size=5, stride=1)\n",
    "x = conv2(x)\n",
    "\n",
    "max1 = MaxPool2d(kernel_size=2, stride=1)\n",
    "x = max1(x)\n",
    "\n",
    "print(x.shape)\n",
    "x = torch.flatten(x, 1)\n",
    "x.shape[1]"
   ]
  },
  {
   "cell_type": "code",
   "execution_count": 10,
   "metadata": {},
   "outputs": [],
   "source": [
    "# CNN Class\n",
    "class CNN(nn.Module):\n",
    "    def __init__(self):\n",
    "        super().__init__()\n",
    "        self.conv1 = Conv2d(in_channels=3, out_channels=3, kernel_size=5, stride=1)\n",
    "        self.conv2 = Conv2d(in_channels=3, out_channels=10, kernel_size=5, stride=1)\n",
    "        self.max1 = MaxPool2d(kernel_size=2, stride=1)\n",
    "        self.fc1 = Linear(10 * 89 * 89, 36)\n",
    "        self.fc2 = Linear(36, 2)\n",
    "        self.smax = Softmax(dim=1)\n",
    "    \n",
    "    def get_flatten_size(self, x):\n",
    "        x = F.relu(self.conv1(x))\n",
    "        x = F.relu(self.conv2(x))\n",
    "        x = self.max1(x)\n",
    "        # get 10 * 89 * 89\n",
    "        x = torch.flatten(x, 1)\n",
    "        return x.shape[1]\n",
    "    \n",
    "    def forward(self, x):\n",
    "        x = F.relu(self.conv1(x))\n",
    "        x = F.relu(self.conv2(x))\n",
    "        x = self.max1(x)\n",
    "        x = x.view(-1, 10 * 89 * 89)\n",
    "        x = F.relu(self.fc1(x))\n",
    "        x = self.fc2(x)\n",
    "        x = self.smax(x)\n",
    "        return x"
   ]
  },
  {
   "cell_type": "code",
   "execution_count": null,
   "metadata": {},
   "outputs": [],
   "source": []
  },
  {
   "cell_type": "code",
   "execution_count": null,
   "metadata": {},
   "outputs": [],
   "source": []
  }
 ],
 "metadata": {
  "kernelspec": {
   "display_name": "Python 3",
   "language": "python",
   "name": "python3"
  },
  "language_info": {
   "codemirror_mode": {
    "name": "ipython",
    "version": 3
   },
   "file_extension": ".py",
   "mimetype": "text/x-python",
   "name": "python",
   "nbconvert_exporter": "python",
   "pygments_lexer": "ipython3",
   "version": "3.8.10"
  }
 },
 "nbformat": 4,
 "nbformat_minor": 2
}
