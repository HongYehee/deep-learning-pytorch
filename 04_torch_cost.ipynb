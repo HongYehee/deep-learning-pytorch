{
 "cells": [
  {
   "cell_type": "code",
   "execution_count": 1,
   "metadata": {},
   "outputs": [],
   "source": [
    "import torch\n",
    "import torch.nn.functional as F\n",
    "import matplotlib.pyplot as plt\n",
    "import numpy as np"
   ]
  },
  {
   "cell_type": "code",
   "execution_count": 2,
   "metadata": {},
   "outputs": [],
   "source": [
    "x_data = torch.FloatTensor([1,2,3])\n",
    "y_data = torch.FloatTensor([1,2,3])"
   ]
  },
  {
   "cell_type": "code",
   "execution_count": null,
   "metadata": {},
   "outputs": [],
   "source": [
    "def mse(x, y, w):\n",
    "    hx = w * x # [-1,-1,-1] * [1,2,3] = [-1,-2,-3]\n",
    "    s = torch.sum((hx - y) ** 2) # [-1,-2,-3] - [1,2,3] = [-2,-4,-6] => [4,16,36]\n",
    "    return s / len(x)"
   ]
  },
  {
   "cell_type": "code",
   "execution_count": 12,
   "metadata": {},
   "outputs": [
    {
     "name": "stdout",
     "output_type": "stream",
     "text": [
      "기울기가 -1일 때의 cost 값 : 18.66666603088379\n",
      "기울기가 0일 때의 cost 값 : 4.666666507720947\n"
     ]
    }
   ],
   "source": [
    "print(\"기울기가 -1일 때의 cost 값 :\", mse(x_data, y_data, -1).item())\n",
    "print(\"기울기가 0일 때의 cost 값 :\", mse(x_data, y_data, 0).item())"
   ]
  },
  {
   "cell_type": "code",
   "execution_count": 14,
   "metadata": {},
   "outputs": [],
   "source": [
    "def mse1(x, y, w):\n",
    "    hx = w * x\n",
    "    rst = F.mse_loss(hx, y)\n",
    "    return rst"
   ]
  },
  {
   "cell_type": "code",
   "execution_count": 15,
   "metadata": {},
   "outputs": [
    {
     "name": "stdout",
     "output_type": "stream",
     "text": [
      "기울기가 -1일 때의 cost 값 : 18.66666603088379\n",
      "기울기가 0일 때의 cost 값 : 4.666666507720947\n"
     ]
    }
   ],
   "source": [
    "print(\"기울기가 -1일 때의 cost 값 :\", mse1(x_data, y_data, -1).item())\n",
    "print(\"기울기가 0일 때의 cost 값 :\", mse1(x_data, y_data, 0).item())"
   ]
  },
  {
   "cell_type": "code",
   "execution_count": 18,
   "metadata": {},
   "outputs": [],
   "source": [
    "def mse2(x, y, w):\n",
    "    hx = w * x\n",
    "    loss_fn = torch.nn.MSELoss()\n",
    "    return loss_fn(hx, y)"
   ]
  },
  {
   "cell_type": "code",
   "execution_count": 19,
   "metadata": {},
   "outputs": [
    {
     "name": "stdout",
     "output_type": "stream",
     "text": [
      "기울기가 -1일 때의 cost 값 : 18.66666603088379\n",
      "기울기가 0일 때의 cost 값 : 4.666666507720947\n"
     ]
    }
   ],
   "source": [
    "print(\"기울기가 -1일 때의 cost 값 :\", mse2(x_data, y_data, -1).item())\n",
    "print(\"기울기가 0일 때의 cost 값 :\", mse2(x_data, y_data, 0).item())"
   ]
  },
  {
   "cell_type": "markdown",
   "metadata": {},
   "source": [
    "### Forward Propagation"
   ]
  },
  {
   "cell_type": "code",
   "execution_count": null,
   "metadata": {},
   "outputs": [
    {
     "name": "stdout",
     "output_type": "stream",
     "text": [
      "a=10, b=20\n",
      "13\n",
      "x= 100 y= 200\n"
     ]
    },
    {
     "data": {
      "text/plain": [
       "'a=10, b=20'"
      ]
     },
     "execution_count": 28,
     "metadata": {},
     "output_type": "execute_result"
    }
   ],
   "source": [
    "# Python의 class 문법\n",
    "# 모든 class는 object class를 상속함\n",
    "class Test:\n",
    "    def __init__(self, a, b):\n",
    "        self.a = a\n",
    "        self.b = b\n",
    "    def show(self):\n",
    "        return f'a={self.a}, b={self.b}'\n",
    "    def __repr__(self):\n",
    "        return f'a={self.a}, b={self.b}'\n",
    "    def __add__(self, x):\n",
    "        return x + self.a\n",
    "    def __call__(self, x, y):\n",
    "        print('x=', x, 'y=', y)\n",
    "    \n",
    "obj = Test(10, 20) # 멤버데이터 메모리 할당\n",
    "# obj.__init__(obj, 10, 20) # 파이썬 인터프리터가 호출함\n",
    "print(obj) # obj.__repr__()\n",
    "rst = obj + 3 # obj.__add__(3)\n",
    "print(rst)\n",
    "obj(100, 200) # obj.__call__(100, 200)\n",
    "obj.show()"
   ]
  },
  {
   "cell_type": "code",
   "execution_count": 32,
   "metadata": {},
   "outputs": [
    {
     "name": "stdout",
     "output_type": "stream",
     "text": [
      "tensor(18.6667)\n"
     ]
    }
   ],
   "source": [
    "class MyMSELoss:\n",
    "    def __call__(self, hx, y):\n",
    "        rst = torch.mean((hx - y) ** 2)\n",
    "        return rst\n",
    "\n",
    "def mse3(x, y, w):\n",
    "    hx = w * x\n",
    "    loss_fn = MyMSELoss()\n",
    "    r = loss_fn(hx, y) # loss_fn.__call__(hx, y)\n",
    "    return r\n",
    "\n",
    "print(mse3(x_data, y_data, -1))"
   ]
  },
  {
   "cell_type": "markdown",
   "metadata": {},
   "source": [
    "---"
   ]
  },
  {
   "cell_type": "code",
   "execution_count": 35,
   "metadata": {},
   "outputs": [],
   "source": [
    "def gradient(x, y, w):\n",
    "    # hx = w * x\n",
    "    s = torch.sum((w * x - y) * 2 * x)\n",
    "    return s / len(x)"
   ]
  },
  {
   "cell_type": "code",
   "execution_count": 45,
   "metadata": {},
   "outputs": [
    {
     "name": "stdout",
     "output_type": "stream",
     "text": [
      "w=10.0 | cost=378.0 | gradient=84.0\n",
      "w=1.5999994277954102 | cost=1.6799968481063843 | gradient=5.599994659423828\n",
      "w=1.0399999618530273 | cost=0.007466652896255255 | gradient=0.3733329772949219\n",
      "w=1.002666711807251 | cost=3.31863084284123e-05 | gradient=0.02488931082189083\n",
      "w=1.0001777410507202 | cost=1.473864017498272e-07 | gradient=0.0016586780548095703\n",
      "w=1.000011920928955 | cost=6.631732385464773e-10 | gradient=0.00011126200115540996\n",
      "w=1.0000008344650269 | cost=3.055333763768431e-12 | gradient=7.549921519967029e-06\n",
      "w=1.0000001192092896 | cost=9.947598300641403e-14 | gradient=1.3510385770132416e-06\n",
      "w=1.0 | cost=0.0 | gradient=0.0\n",
      "w=1.0 | cost=0.0 | gradient=0.0\n",
      "w=1.0 | cost=0.0 | gradient=0.0\n",
      "w=1.0 | cost=0.0 | gradient=0.0\n",
      "w=1.0 | cost=0.0 | gradient=0.0\n",
      "w=1.0 | cost=0.0 | gradient=0.0\n",
      "w=1.0 | cost=0.0 | gradient=0.0\n",
      "w=1.0 | cost=0.0 | gradient=0.0\n",
      "w=1.0 | cost=0.0 | gradient=0.0\n",
      "w=1.0 | cost=0.0 | gradient=0.0\n",
      "w=1.0 | cost=0.0 | gradient=0.0\n",
      "w=1.0 | cost=0.0 | gradient=0.0\n",
      "w=1.0 | cost=0.0 | gradient=0.0\n",
      "w=1.0 | cost=0.0 | gradient=0.0\n",
      "w=1.0 | cost=0.0 | gradient=0.0\n",
      "w=1.0 | cost=0.0 | gradient=0.0\n",
      "w=1.0 | cost=0.0 | gradient=0.0\n",
      "w=1.0 | cost=0.0 | gradient=0.0\n",
      "w=1.0 | cost=0.0 | gradient=0.0\n",
      "w=1.0 | cost=0.0 | gradient=0.0\n",
      "w=1.0 | cost=0.0 | gradient=0.0\n",
      "w=1.0 | cost=0.0 | gradient=0.0\n",
      "w=1.0 | cost=0.0 | gradient=0.0\n",
      "w=1.0 | cost=0.0 | gradient=0.0\n",
      "w=1.0 | cost=0.0 | gradient=0.0\n",
      "w=1.0 | cost=0.0 | gradient=0.0\n",
      "w=1.0 | cost=0.0 | gradient=0.0\n",
      "w=1.0 | cost=0.0 | gradient=0.0\n",
      "w=1.0 | cost=0.0 | gradient=0.0\n",
      "w=1.0 | cost=0.0 | gradient=0.0\n",
      "w=1.0 | cost=0.0 | gradient=0.0\n",
      "w=1.0 | cost=0.0 | gradient=0.0\n",
      "w=1.0 | cost=0.0 | gradient=0.0\n",
      "w=1.0 | cost=0.0 | gradient=0.0\n",
      "w=1.0 | cost=0.0 | gradient=0.0\n",
      "w=1.0 | cost=0.0 | gradient=0.0\n",
      "w=1.0 | cost=0.0 | gradient=0.0\n",
      "w=1.0 | cost=0.0 | gradient=0.0\n",
      "w=1.0 | cost=0.0 | gradient=0.0\n",
      "w=1.0 | cost=0.0 | gradient=0.0\n",
      "w=1.0 | cost=0.0 | gradient=0.0\n",
      "w=1.0 | cost=0.0 | gradient=0.0\n",
      "w=1.0 | cost=0.0 | gradient=0.0\n",
      "w=1.0 | cost=0.0 | gradient=0.0\n",
      "w=1.0 | cost=0.0 | gradient=0.0\n",
      "w=1.0 | cost=0.0 | gradient=0.0\n",
      "w=1.0 | cost=0.0 | gradient=0.0\n",
      "w=1.0 | cost=0.0 | gradient=0.0\n",
      "w=1.0 | cost=0.0 | gradient=0.0\n",
      "w=1.0 | cost=0.0 | gradient=0.0\n",
      "w=1.0 | cost=0.0 | gradient=0.0\n",
      "w=1.0 | cost=0.0 | gradient=0.0\n",
      "w=1.0 | cost=0.0 | gradient=0.0\n",
      "w=1.0 | cost=0.0 | gradient=0.0\n",
      "w=1.0 | cost=0.0 | gradient=0.0\n",
      "w=1.0 | cost=0.0 | gradient=0.0\n",
      "w=1.0 | cost=0.0 | gradient=0.0\n",
      "w=1.0 | cost=0.0 | gradient=0.0\n",
      "w=1.0 | cost=0.0 | gradient=0.0\n",
      "w=1.0 | cost=0.0 | gradient=0.0\n",
      "w=1.0 | cost=0.0 | gradient=0.0\n",
      "w=1.0 | cost=0.0 | gradient=0.0\n",
      "w=1.0 | cost=0.0 | gradient=0.0\n",
      "w=1.0 | cost=0.0 | gradient=0.0\n",
      "w=1.0 | cost=0.0 | gradient=0.0\n",
      "w=1.0 | cost=0.0 | gradient=0.0\n",
      "w=1.0 | cost=0.0 | gradient=0.0\n",
      "w=1.0 | cost=0.0 | gradient=0.0\n",
      "w=1.0 | cost=0.0 | gradient=0.0\n",
      "w=1.0 | cost=0.0 | gradient=0.0\n",
      "w=1.0 | cost=0.0 | gradient=0.0\n",
      "w=1.0 | cost=0.0 | gradient=0.0\n",
      "w=1.0 | cost=0.0 | gradient=0.0\n",
      "w=1.0 | cost=0.0 | gradient=0.0\n",
      "w=1.0 | cost=0.0 | gradient=0.0\n",
      "w=1.0 | cost=0.0 | gradient=0.0\n",
      "w=1.0 | cost=0.0 | gradient=0.0\n",
      "w=1.0 | cost=0.0 | gradient=0.0\n",
      "w=1.0 | cost=0.0 | gradient=0.0\n",
      "w=1.0 | cost=0.0 | gradient=0.0\n",
      "w=1.0 | cost=0.0 | gradient=0.0\n",
      "w=1.0 | cost=0.0 | gradient=0.0\n",
      "w=1.0 | cost=0.0 | gradient=0.0\n",
      "w=1.0 | cost=0.0 | gradient=0.0\n",
      "w=1.0 | cost=0.0 | gradient=0.0\n",
      "w=1.0 | cost=0.0 | gradient=0.0\n",
      "w=1.0 | cost=0.0 | gradient=0.0\n",
      "w=1.0 | cost=0.0 | gradient=0.0\n",
      "w=1.0 | cost=0.0 | gradient=0.0\n",
      "w=1.0 | cost=0.0 | gradient=0.0\n",
      "w=1.0 | cost=0.0 | gradient=0.0\n",
      "w=1.0 | cost=0.0 | gradient=0.0\n",
      "========================================\n",
      "           최종 w=1.0\n",
      "========================================\n"
     ]
    }
   ],
   "source": [
    "w = torch.tensor(10.0, requires_grad=True)\n",
    "for epoch in range(100):\n",
    "    c = mse(x_data, y_data, w)\n",
    "    g = gradient(x_data, y_data, w)\n",
    "    print('w=', w.detach().item(), ' | cost=', c.item(), ' | gradient=', g.item(), sep='')\n",
    "    w = w - 0.1 * g\n",
    "print('========================================')\n",
    "print('           최종 w=', w.detach().item(), sep='')\n",
    "print('========================================')"
   ]
  },
  {
   "cell_type": "code",
   "execution_count": null,
   "metadata": {},
   "outputs": [],
   "source": []
  },
  {
   "cell_type": "code",
   "execution_count": null,
   "metadata": {},
   "outputs": [],
   "source": []
  },
  {
   "cell_type": "code",
   "execution_count": null,
   "metadata": {},
   "outputs": [],
   "source": []
  },
  {
   "cell_type": "code",
   "execution_count": null,
   "metadata": {},
   "outputs": [],
   "source": []
  },
  {
   "cell_type": "code",
   "execution_count": null,
   "metadata": {},
   "outputs": [],
   "source": []
  },
  {
   "cell_type": "code",
   "execution_count": null,
   "metadata": {},
   "outputs": [],
   "source": []
  }
 ],
 "metadata": {
  "kernelspec": {
   "display_name": "Python 3",
   "language": "python",
   "name": "python3"
  },
  "language_info": {
   "codemirror_mode": {
    "name": "ipython",
    "version": 3
   },
   "file_extension": ".py",
   "mimetype": "text/x-python",
   "name": "python",
   "nbconvert_exporter": "python",
   "pygments_lexer": "ipython3",
   "version": "3.8.10"
  }
 },
 "nbformat": 4,
 "nbformat_minor": 2
}
