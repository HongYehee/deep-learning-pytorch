{
 "cells": [
  {
   "cell_type": "markdown",
   "metadata": {},
   "source": [
    "### Logistic Classification"
   ]
  },
  {
   "cell_type": "code",
   "execution_count": 25,
   "metadata": {},
   "outputs": [],
   "source": [
    "# 필요한 라이브러리 호출\n",
    "import torch\n",
    "from torch.optim import Adam\n",
    "from torch.nn import Linear, MSELoss, Sequential\n",
    "import torch.nn.functional as F\n",
    "import numpy as np\n",
    "import pandas as pd\n",
    "import matplotlib.pyplot as plt"
   ]
  },
  {
   "cell_type": "code",
   "execution_count": 33,
   "metadata": {},
   "outputs": [],
   "source": [
    "# 데이터셋 만들기 (출석 일수-합격 여부)\n",
    "x_data = torch.FloatTensor([1,2,3,4,2,6,7,8,9,10])\n",
    "y_data = torch.FloatTensor([0,0,0,0,0,1,1,1,1,1])"
   ]
  },
  {
   "cell_type": "code",
   "execution_count": 38,
   "metadata": {},
   "outputs": [],
   "source": [
    "# cost function 정의, cross entropy function 사용\n",
    "def cost(x, y, w):\n",
    "    z = w * x\n",
    "    hx = torch.sigmoid(z)\n",
    "    # c = torch.mean((hx - y) ** 2)\n",
    "    # cost_i = -(y * torch.log(hx) + (1 - y) * (torch.log(1 - hx)))\n",
    "    cost_i = F.binary_cross_entropy(hx, y)\n",
    "    # cost_i = F.binary_cross_entropy_with_logits(z, y)\n",
    "    c = torch.mean(cost_i)\n",
    "    return c"
   ]
  },
  {
   "cell_type": "code",
   "execution_count": 39,
   "metadata": {},
   "outputs": [
    {
     "data": {
      "text/plain": [
       "tensor(3.6045)"
      ]
     },
     "execution_count": 39,
     "metadata": {},
     "output_type": "execute_result"
    }
   ],
   "source": [
    "# 예측하기\n",
    "cost(x_data, y_data, 3)"
   ]
  },
  {
   "cell_type": "code",
   "execution_count": 40,
   "metadata": {},
   "outputs": [
    {
     "data": {
      "image/png": "[encoded data removed]",
      "text/plain": [
       "<Figure size 640x480 with 1 Axes>"
      ]
     },
     "metadata": {},
     "output_type": "display_data"
    }
   ],
   "source": [
    "# 그래프 그리기\n",
    "for w in np.linspace(-1, 5, 50):\n",
    "    c = cost( x_data, y_data, w)\n",
    "    plt.plot( w, c, 'ro')\n",
    "plt.show()"
   ]
  }
 ],
 "metadata": {
  "kernelspec": {
   "display_name": "Python 3",
   "language": "python",
   "name": "python3"
  },
  "language_info": {
   "codemirror_mode": {
    "name": "ipython",
    "version": 3
   },
   "file_extension": ".py",
   "mimetype": "text/x-python",
   "name": "python",
   "nbconvert_exporter": "python",
   "pygments_lexer": "ipython3",
   "version": "3.8.10"
  }
 },
 "nbformat": 4,
 "nbformat_minor": 2
}
