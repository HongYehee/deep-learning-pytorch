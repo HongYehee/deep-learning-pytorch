{
 "cells": [
  {
   "cell_type": "markdown",
   "metadata": {},
   "source": [
    "### CNN - MNIST"
   ]
  },
  {
   "cell_type": "code",
   "execution_count": null,
   "metadata": {},
   "outputs": [],
   "source": [
    "# import libraries\n",
    "import torch\n",
    "from torch.optim import Adam\n",
    "from torch.nn import Linear, Sigmoid, BCELoss, Module, Softmax, ReLU, CrossEntropyLoss, Conv2d, MaxPool2d\n",
    "import torch.nn as nn\n",
    "import torch.nn.functional as F\n",
    "\n",
    "from sklearn.metrics import accuracy_score\n",
    "\n",
    "# import MNIST data\n",
    "from tensorflow.keras.datasets.mnist import load_data"
   ]
  },
  {
   "cell_type": "code",
   "execution_count": 3,
   "metadata": {},
   "outputs": [],
   "source": [
    "# load data\n",
    "(x_train, y_train), (x_test, y_test) = load_data()"
   ]
  },
  {
   "cell_type": "code",
   "execution_count": null,
   "metadata": {},
   "outputs": [
    {
     "data": {
      "text/plain": [
       "(60000, 28, 28)"
      ]
     },
     "execution_count": 5,
     "metadata": {},
     "output_type": "execute_result"
    }
   ],
   "source": [
    "# check data size\n",
    "x_train.shape"
   ]
  },
  {
   "cell_type": "code",
   "execution_count": 6,
   "metadata": {},
   "outputs": [],
   "source": [
    "# reshape to (60000, 1, 28), normalization, tensor node\n",
    "x = torch.FloatTensor(x_train.reshape(-1, 1, 28, 28) / 255)\n",
    "y = torch.LongTensor(y_train)"
   ]
  },
  {
   "cell_type": "code",
   "execution_count": 16,
   "metadata": {},
   "outputs": [],
   "source": [
    "# CNN Class\n",
    "class CNN(nn.Module):\n",
    "    def __init__(self):\n",
    "        super().__init__()\n",
    "        self.conv1 = Conv2d(in_channels=1, out_channels=3, kernel_size=5, stride=1)\n",
    "        self.conv2 = Conv2d(in_channels=3, out_channels=10, kernel_size=5, stride=1)\n",
    "        self.max1 = MaxPool2d(kernel_size=2, stride=1)\n",
    "        self.fc1 = Linear(10 * 19 * 19, 36)\n",
    "        self.fc2 = Linear(36, 10)\n",
    "        self.smax = Softmax(dim=1)\n",
    "    \n",
    "    def forward(self, x):\n",
    "        x = F.relu(self.conv1(x))\n",
    "        x = F.relu(self.conv2(x))\n",
    "        x = self.max1(x)\n",
    "        x = x.view( -1, 10 * 19 * 19)\n",
    "        x = F.relu(self.fc1(x))\n",
    "        x = self.fc2(x)\n",
    "        x = self.smax(x)\n",
    "        return x"
   ]
  },
  {
   "cell_type": "code",
   "execution_count": 20,
   "metadata": {},
   "outputs": [
    {
     "name": "stdout",
     "output_type": "stream",
     "text": [
      "Epoch [1/20] - Loss: 2.3026 | Accuracy: 10.33%\n",
      "Epoch [2/20] - Loss: 2.2960 | Accuracy: 9.88%\n",
      "Epoch [3/20] - Loss: 2.2531 | Accuracy: 24.03%\n",
      "Epoch [4/20] - Loss: 2.1579 | Accuracy: 32.36%\n",
      "Epoch [5/20] - Loss: 2.0599 | Accuracy: 42.07%\n",
      "Epoch [6/20] - Loss: 1.9357 | Accuracy: 57.23%\n",
      "Epoch [7/20] - Loss: 1.9168 | Accuracy: 55.34%\n",
      "Epoch [8/20] - Loss: 1.8971 | Accuracy: 56.21%\n",
      "Epoch [9/20] - Loss: 1.8620 | Accuracy: 59.39%\n",
      "Epoch [10/20] - Loss: 1.8041 | Accuracy: 65.91%\n",
      "Epoch [11/20] - Loss: 1.7923 | Accuracy: 66.95%\n",
      "Epoch [12/20] - Loss: 1.7164 | Accuracy: 74.85%\n",
      "Epoch [13/20] - Loss: 1.6729 | Accuracy: 79.09%\n",
      "Epoch [14/20] - Loss: 1.6510 | Accuracy: 81.24%\n",
      "Epoch [15/20] - Loss: 1.6370 | Accuracy: 82.66%\n",
      "Epoch [16/20] - Loss: 1.6250 | Accuracy: 83.90%\n",
      "Epoch [17/20] - Loss: 1.6033 | Accuracy: 86.05%\n",
      "Epoch [18/20] - Loss: 1.5837 | Accuracy: 88.00%\n",
      "Epoch [19/20] - Loss: 1.5836 | Accuracy: 87.88%\n",
      "Epoch [20/20] - Loss: 1.5833 | Accuracy: 87.97%\n"
     ]
    }
   ],
   "source": [
    "# training\n",
    "model = CNN()\n",
    "loss_fn = CrossEntropyLoss()\n",
    "optimizer = Adam(model.parameters(), lr=0.01)\n",
    "\n",
    "for epoch in range(20):\n",
    "    optimizer.zero_grad()\n",
    "    hx = model(x)\n",
    "    cost = loss_fn(hx, y)\n",
    "    cost.backward()\n",
    "    optimizer.step()\n",
    "    \n",
    "    _, pred = hx.max(dim=1)\n",
    "    print(f\"Epoch [{epoch+1}/20] - Loss: {cost.item():.4f} | Accuracy: {(accuracy_score(y.numpy(), pred.numpy()) * 100):.2f}%\")"
   ]
  },
  {
   "cell_type": "code",
   "execution_count": null,
   "metadata": {},
   "outputs": [],
   "source": []
  },
  {
   "cell_type": "code",
   "execution_count": null,
   "metadata": {},
   "outputs": [],
   "source": []
  }
 ],
 "metadata": {
  "kernelspec": {
   "display_name": "Python 3",
   "language": "python",
   "name": "python3"
  },
  "language_info": {
   "codemirror_mode": {
    "name": "ipython",
    "version": 3
   },
   "file_extension": ".py",
   "mimetype": "text/x-python",
   "name": "python",
   "nbconvert_exporter": "python",
   "pygments_lexer": "ipython3",
   "version": "3.8.10"
  }
 },
 "nbformat": 4,
 "nbformat_minor": 2
}
