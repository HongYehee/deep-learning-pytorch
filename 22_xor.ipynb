{
 "cells": [
  {
   "cell_type": "markdown",
   "id": "be618026",
   "metadata": {},
   "source": [
    "### XOR"
   ]
  },
  {
   "cell_type": "code",
   "execution_count": 4,
   "id": "255741c9",
   "metadata": {},
   "outputs": [],
   "source": [
    "# 필요한 라이브러리 호출\n",
    "import numpy as np"
   ]
  },
  {
   "cell_type": "code",
   "execution_count": 5,
   "id": "47bfb861",
   "metadata": {},
   "outputs": [],
   "source": [
    "# 데이터 준비\n",
    "data = [[1, 1], [1, 0], [0, 1], [0, 0]]"
   ]
  },
  {
   "cell_type": "code",
   "execution_count": null,
   "id": "2282a4e2",
   "metadata": {},
   "outputs": [],
   "source": [
    "# common 함수 정의\n",
    "def common(w1, w2, theta, x1, x2):\n",
    "    value = w1 * x1 + w2 * x2\n",
    "    print('value:', value)\n",
    "    return value > theta"
   ]
  },
  {
   "cell_type": "code",
   "execution_count": null,
   "id": "a04da4fc",
   "metadata": {},
   "outputs": [],
   "source": [
    "# and 함수 정의 : 두 입력이 모두 1일 때만 1을 반환\n",
    "def AND(x1, x2):\n",
    "    return common(0.5, 0.5, 0.5, x1, x2)"
   ]
  },
  {
   "cell_type": "code",
   "execution_count": null,
   "id": "1b59ca7e",
   "metadata": {},
   "outputs": [],
   "source": [
    "# or 함수 정의 : 둘 중 하나라도 1이면 1을 반환\n",
    "def OR(x1, x2):\n",
    "    return common(0.5, 0.5, 0.2, x1, x2)"
   ]
  },
  {
   "cell_type": "code",
   "execution_count": null,
   "id": "bd192ecf",
   "metadata": {},
   "outputs": [],
   "source": [
    "# nand 함수 정의 : 두 입력이 모두 1일 때만 0을 반환하고 나머지 경우는 1을 반환\n",
    "def NAND(x1, x2):\n",
    "    return common(-0.5, -0.5, -0.7, x1, x2)"
   ]
  },
  {
   "cell_type": "code",
   "execution_count": null,
   "id": "9475aff4",
   "metadata": {},
   "outputs": [],
   "source": [
    "# xor 함수 정의 : 두 입력이 다를 때만 1을 반환\n",
    "def XOR(x1, x2):\n",
    "    y1 = OR(x1, x2)\n",
    "    y2 = NAND(x1, x2)\n",
    "    return AND(y1, y2)"
   ]
  },
  {
   "cell_type": "code",
   "execution_count": null,
   "id": "46036ad1",
   "metadata": {},
   "outputs": [],
   "source": [
    "# show_operation 정의\n",
    "def show_operation(op):\n",
    "    for x1, x2 in data:\n",
    "        print(op(x1,x2))"
   ]
  },
  {
   "cell_type": "code",
   "execution_count": null,
   "id": "eaedb22e",
   "metadata": {},
   "outputs": [
    {
     "name": "stdout",
     "output_type": "stream",
     "text": [
      "value: 1.0\n",
      "True\n",
      "value: 0.5\n",
      "False\n",
      "value: 0.5\n",
      "False\n",
      "value: 0.0\n",
      "False\n"
     ]
    }
   ],
   "source": [
    "# 함수들 실행해보기\n",
    "show_operation(AND)"
   ]
  },
  {
   "cell_type": "code",
   "execution_count": 13,
   "id": "0d2b03ea",
   "metadata": {},
   "outputs": [
    {
     "name": "stdout",
     "output_type": "stream",
     "text": [
      "value: 1.0\n",
      "True\n",
      "value: 0.5\n",
      "True\n",
      "value: 0.5\n",
      "True\n",
      "value: 0.0\n",
      "False\n"
     ]
    }
   ],
   "source": [
    "show_operation(OR)"
   ]
  },
  {
   "cell_type": "code",
   "execution_count": 14,
   "id": "d6a07860",
   "metadata": {},
   "outputs": [
    {
     "name": "stdout",
     "output_type": "stream",
     "text": [
      "value: -1.0\n",
      "False\n",
      "value: -0.5\n",
      "True\n",
      "value: -0.5\n",
      "True\n",
      "value: -0.0\n",
      "True\n"
     ]
    }
   ],
   "source": [
    "show_operation(NAND)"
   ]
  },
  {
   "cell_type": "code",
   "execution_count": 15,
   "id": "4126e966",
   "metadata": {},
   "outputs": [
    {
     "name": "stdout",
     "output_type": "stream",
     "text": [
      "value: 1.0\n",
      "value: -1.0\n",
      "value: 0.5\n",
      "False\n",
      "value: 0.5\n",
      "value: -0.5\n",
      "value: 1.0\n",
      "True\n",
      "value: 0.5\n",
      "value: -0.5\n",
      "value: 1.0\n",
      "True\n",
      "value: 0.0\n",
      "value: -0.0\n",
      "value: 0.5\n",
      "False\n"
     ]
    }
   ],
   "source": [
    "show_operation(XOR)"
   ]
  }
 ],
 "metadata": {
  "kernelspec": {
   "display_name": "Python 3",
   "language": "python",
   "name": "python3"
  },
  "language_info": {
   "codemirror_mode": {
    "name": "ipython",
    "version": 3
   },
   "file_extension": ".py",
   "mimetype": "text/x-python",
   "name": "python",
   "nbconvert_exporter": "python",
   "pygments_lexer": "ipython3",
   "version": "3.8.10"
  }
 },
 "nbformat": 4,
 "nbformat_minor": 5
}
