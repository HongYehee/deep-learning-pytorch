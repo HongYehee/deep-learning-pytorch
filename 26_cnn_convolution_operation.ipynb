{
 "cells": [
  {
   "cell_type": "markdown",
   "metadata": {},
   "source": [
    "### CNN (Convolutional Neural Network)"
   ]
  },
  {
   "cell_type": "code",
   "execution_count": 24,
   "metadata": {},
   "outputs": [],
   "source": [
    "# import libraries\n",
    "import torch\n",
    "import torch.nn as nn\n",
    "import torch.nn.functional as F"
   ]
  },
  {
   "cell_type": "code",
   "execution_count": 25,
   "metadata": {},
   "outputs": [
    {
     "data": {
      "text/plain": [
       "torch.Size([10, 1, 28, 28])"
      ]
     },
     "execution_count": 25,
     "metadata": {},
     "output_type": "execute_result"
    }
   ],
   "source": [
    "# make random images\n",
    "rimg = torch.randint(0, 255, (10, 1, 28, 28)).float()\n",
    "rimg.shape # number of images, color depth, width, height"
   ]
  },
  {
   "cell_type": "code",
   "execution_count": 26,
   "metadata": {},
   "outputs": [
    {
     "data": {
      "text/plain": [
       "torch.Size([10, 10, 26, 26])"
      ]
     },
     "execution_count": 26,
     "metadata": {},
     "output_type": "execute_result"
    }
   ],
   "source": [
    "# convolution operation\n",
    "conv = nn.Conv2d(in_channels=1, out_channels=10, kernel_size=3, stride=1)\n",
    "output = conv(rimg)\n",
    "output.shape # output size : (N - F) / stride + 1"
   ]
  },
  {
   "cell_type": "code",
   "execution_count": null,
   "metadata": {},
   "outputs": [
    {
     "name": "stdout",
     "output_type": "stream",
     "text": [
      "convolution 1 - torch.Size([10, 3, 24, 24])\n",
      "convolution 2 - torch.Size([10, 10, 20, 20])\n",
      "max pool 1 - torch.Size([10, 10, 19, 19])\n"
     ]
    }
   ],
   "source": [
    "# convolution and pooling layers\n",
    "conv1 = nn.Conv2d( in_channels=1, out_channels=3, kernel_size=5, stride=1)\n",
    "x = conv1(rimg)\n",
    "print('convolution 1 -', x.shape)\n",
    "\n",
    "conv2 = nn.Conv2d( in_channels=3,out_channels=10, kernel_size=5, stride=1)\n",
    "x = conv2(x)\n",
    "print('convolution 2 -', x.shape)\n",
    "\n",
    "max1 = nn.MaxPool2d( kernel_size=2, stride=1 )\n",
    "x = max1(x)\n",
    "print('max pool 1 -', x.shape)"
   ]
  },
  {
   "cell_type": "code",
   "execution_count": 37,
   "metadata": {},
   "outputs": [],
   "source": [
    "# CNN Class\n",
    "class CNN(nn.Module):\n",
    "    def __init__(self):\n",
    "        super().__init__()\n",
    "        self.conv1 = nn.Conv2d(in_channels=1, out_channels=3, kernel_size=5, stride=1)\n",
    "        self.conv2 = nn.Conv2d(in_channels=3, out_channels=10, kernel_size=5, stride=1)\n",
    "        self.max1 = nn.MaxPool2d(kernel_size=2, stride=1)\n",
    "        self.fc1 = nn.Linear(10 * 19 * 19, 36)\n",
    "        self.fc2 = nn.Linear(36, 10)\n",
    "    \n",
    "    def forward(self, x):\n",
    "        x = F.relu(self.conv1(x))\n",
    "        x = F.relu(self.conv2(x))\n",
    "        x = self.max1(x)\n",
    "        x = x.view( -1, 10 * 19 * 19)\n",
    "        x = F.relu(self.fc1(x))\n",
    "        x = F.softmax(self.fc2(x))\n",
    "        return x"
   ]
  },
  {
   "cell_type": "code",
   "execution_count": 38,
   "metadata": {},
   "outputs": [
    {
     "data": {
      "text/plain": [
       "torch.Size([10, 1, 28, 28])"
      ]
     },
     "execution_count": 38,
     "metadata": {},
     "output_type": "execute_result"
    }
   ],
   "source": [
    "rimg = torch.randn(10, 1, 28, 28)\n",
    "rimg.shape"
   ]
  },
  {
   "cell_type": "code",
   "execution_count": null,
   "metadata": {},
   "outputs": [
    {
     "name": "stderr",
     "output_type": "stream",
     "text": [
      "C:\\Users\\wsadm\\AppData\\Local\\Temp\\ipykernel_14236\\1000785010.py:17: UserWarning: Implicit dimension choice for softmax has been deprecated. Change the call to include dim=X as an argument.\n",
      "  x = F.softmax(self.fc2(x))\n"
     ]
    },
    {
     "data": {
      "text/plain": [
       "tensor([[0.1211, 0.0871, 0.1000, 0.0953, 0.0852, 0.0970, 0.1038, 0.1078, 0.0867,\n",
       "         0.1161],\n",
       "        [0.1181, 0.0885, 0.1005, 0.0928, 0.0822, 0.0989, 0.1012, 0.1087, 0.0861,\n",
       "         0.1230],\n",
       "        [0.1223, 0.0888, 0.1024, 0.0959, 0.0820, 0.0946, 0.1032, 0.1092, 0.0845,\n",
       "         0.1173],\n",
       "        [0.1175, 0.0926, 0.0975, 0.0951, 0.0808, 0.0992, 0.1028, 0.1099, 0.0867,\n",
       "         0.1179],\n",
       "        [0.1185, 0.0885, 0.1030, 0.0938, 0.0821, 0.0967, 0.1012, 0.1117, 0.0885,\n",
       "         0.1161],\n",
       "        [0.1233, 0.0890, 0.1022, 0.0954, 0.0835, 0.0953, 0.1041, 0.1045, 0.0881,\n",
       "         0.1144],\n",
       "        [0.1255, 0.0862, 0.0962, 0.0962, 0.0852, 0.1019, 0.1045, 0.0999, 0.0918,\n",
       "         0.1126],\n",
       "        [0.1238, 0.0865, 0.1025, 0.0950, 0.0825, 0.0998, 0.1012, 0.1060, 0.0888,\n",
       "         0.1139],\n",
       "        [0.1165, 0.0915, 0.1003, 0.0953, 0.0810, 0.0968, 0.1020, 0.1124, 0.0903,\n",
       "         0.1139],\n",
       "        [0.1207, 0.0869, 0.0977, 0.0946, 0.0847, 0.0979, 0.1031, 0.1087, 0.0894,\n",
       "         0.1164]], grad_fn=<SoftmaxBackward>)"
      ]
     },
     "execution_count": 39,
     "metadata": {},
     "output_type": "execute_result"
    }
   ],
   "source": [
    "cnn = CNN()\n",
    "cnn(rimg)"
   ]
  }
 ],
 "metadata": {
  "kernelspec": {
   "display_name": "Python 3",
   "language": "python",
   "name": "python3"
  },
  "language_info": {
   "codemirror_mode": {
    "name": "ipython",
    "version": 3
   },
   "file_extension": ".py",
   "mimetype": "text/x-python",
   "name": "python",
   "nbconvert_exporter": "python",
   "pygments_lexer": "ipython3",
   "version": "3.8.10"
  }
 },
 "nbformat": 4,
 "nbformat_minor": 2
}
