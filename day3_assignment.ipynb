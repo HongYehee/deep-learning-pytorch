{
 "cells": [
  {
   "cell_type": "markdown",
   "metadata": {},
   "source": [
    "## 🔰 Day 3 - Assignment (2024.11.27)"
   ]
  },
  {
   "cell_type": "code",
   "execution_count": 15,
   "metadata": {},
   "outputs": [],
   "source": [
    "# import libraries\n",
    "import numpy as np\n",
    "import matplotlib.pyplot as plt\n",
    "\n",
    "import torch\n",
    "from torchvision import datasets\n",
    "import torchvision.transforms as transforms\n",
    "\n",
    "from torch.optim import Adam\n",
    "from torch.nn import Linear, Sigmoid, BCELoss, Module, Softmax, ReLU, CrossEntropyLoss, Sequential\n",
    "from sklearn.metrics import accuracy_score, f1_score, confusion_matrix\n",
    "\n",
    "# import fasion MNIST data\n",
    "from tensorflow.keras.datasets.fashion_mnist import load_data"
   ]
  },
  {
   "cell_type": "code",
   "execution_count": null,
   "metadata": {},
   "outputs": [],
   "source": [
    "# list of label name\n",
    "text_labels = ['t-shirt', 'trouser', 'pullover', 'dress', 'coat',\n",
    "                'sandal', 'shirt', 'sneaker', 'bag', 'ankle boot']"
   ]
  },
  {
   "cell_type": "code",
   "execution_count": 4,
   "metadata": {},
   "outputs": [
    {
     "name": "stdout",
     "output_type": "stream",
     "text": [
      "Downloading data from https://storage.googleapis.com/tensorflow/tf-keras-datasets/train-labels-idx1-ubyte.gz\n",
      "29515/29515 [==============================] - 0s 2us/step\n",
      "Downloading data from https://storage.googleapis.com/tensorflow/tf-keras-datasets/train-images-idx3-ubyte.gz\n",
      "26421880/26421880 [==============================] - 1s 0us/step\n",
      "Downloading data from https://storage.googleapis.com/tensorflow/tf-keras-datasets/t10k-labels-idx1-ubyte.gz\n",
      "5148/5148 [==============================] - 0s 0s/step\n",
      "Downloading data from https://storage.googleapis.com/tensorflow/tf-keras-datasets/t10k-images-idx3-ubyte.gz\n",
      "4422102/4422102 [==============================] - 0s 0us/step\n"
     ]
    }
   ],
   "source": [
    "# load fasion mnist data\n",
    "(x_train,y_train),(x_test,y_test) = load_data()"
   ]
  },
  {
   "cell_type": "code",
   "execution_count": 5,
   "metadata": {},
   "outputs": [
    {
     "data": {
      "text/plain": [
       "(60000, 28, 28)"
      ]
     },
     "execution_count": 5,
     "metadata": {},
     "output_type": "execute_result"
    }
   ],
   "source": [
    "# check size\n",
    "x_train.shape"
   ]
  },
  {
   "cell_type": "code",
   "execution_count": 7,
   "metadata": {},
   "outputs": [
    {
     "data": {
      "text/plain": [
       "(10000, 28, 28)"
      ]
     },
     "execution_count": 7,
     "metadata": {},
     "output_type": "execute_result"
    }
   ],
   "source": [
    "x_test.shape"
   ]
  },
  {
   "cell_type": "code",
   "execution_count": 8,
   "metadata": {},
   "outputs": [
    {
     "data": {
      "text/plain": [
       "array([9, 0, 0, ..., 3, 0, 5], dtype=uint8)"
      ]
     },
     "execution_count": 8,
     "metadata": {},
     "output_type": "execute_result"
    }
   ],
   "source": [
    "y_train"
   ]
  },
  {
   "cell_type": "code",
   "execution_count": null,
   "metadata": {},
   "outputs": [
    {
     "data": {
      "image/png": "[encoded data removed]",
      "text/plain": [
       "<Figure size 640x480 with 1 Axes>"
      ]
     },
     "metadata": {},
     "output_type": "display_data"
    }
   ],
   "source": [
    "# plot of the first image\n",
    "plt.imshow(x_train[0], cmap='gray')\n",
    "plt.show()"
   ]
  },
  {
   "cell_type": "code",
   "execution_count": 11,
   "metadata": {},
   "outputs": [
    {
     "data": {
      "text/plain": [
       "9"
      ]
     },
     "execution_count": 11,
     "metadata": {},
     "output_type": "execute_result"
    }
   ],
   "source": [
    "# label of the first image\n",
    "y_train[0]"
   ]
  },
  {
   "cell_type": "markdown",
   "metadata": {},
   "source": [
    "---"
   ]
  },
  {
   "cell_type": "markdown",
   "metadata": {},
   "source": [
    "### 1️⃣ 정규화"
   ]
  },
  {
   "cell_type": "code",
   "execution_count": 13,
   "metadata": {},
   "outputs": [],
   "source": [
    "# make tensor node\n",
    "x = torch.FloatTensor(x_train.reshape(60000, 28*28) / 255)\n",
    "y = torch.LongTensor(y_train)"
   ]
  },
  {
   "cell_type": "markdown",
   "metadata": {},
   "source": [
    "---"
   ]
  },
  {
   "cell_type": "markdown",
   "metadata": {},
   "source": [
    "### 2️⃣ 딥러닝 학습 (Sequential 방식)"
   ]
  },
  {
   "cell_type": "code",
   "execution_count": null,
   "metadata": {},
   "outputs": [
    {
     "name": "stdout",
     "output_type": "stream",
     "text": [
      "Epoch [1/200] | Loss: 2.3023 | Accuracy: 0.0996\n",
      "Epoch [2/200] | Loss: 2.2835 | Accuracy: 0.1526\n",
      "Epoch [3/200] | Loss: 2.2393 | Accuracy: 0.3328\n",
      "Epoch [4/200] | Loss: 2.1709 | Accuracy: 0.3691\n",
      "Epoch [5/200] | Loss: 2.1133 | Accuracy: 0.3893\n",
      "Epoch [6/200] | Loss: 2.0556 | Accuracy: 0.4594\n",
      "Epoch [7/200] | Loss: 2.0310 | Accuracy: 0.4549\n",
      "Epoch [8/200] | Loss: 1.9899 | Accuracy: 0.4661\n",
      "Epoch [9/200] | Loss: 1.9462 | Accuracy: 0.5500\n",
      "Epoch [10/200] | Loss: 1.9186 | Accuracy: 0.5991\n",
      "Epoch [11/200] | Loss: 1.8881 | Accuracy: 0.6159\n",
      "Epoch [12/200] | Loss: 1.8870 | Accuracy: 0.5967\n",
      "Epoch [13/200] | Loss: 1.8612 | Accuracy: 0.6149\n",
      "Epoch [14/200] | Loss: 1.8461 | Accuracy: 0.6287\n",
      "Epoch [15/200] | Loss: 1.8431 | Accuracy: 0.6391\n",
      "Epoch [16/200] | Loss: 1.8305 | Accuracy: 0.6468\n",
      "Epoch [17/200] | Loss: 1.8210 | Accuracy: 0.6482\n",
      "Epoch [18/200] | Loss: 1.8181 | Accuracy: 0.6554\n",
      "Epoch [19/200] | Loss: 1.8108 | Accuracy: 0.6528\n",
      "Epoch [20/200] | Loss: 1.8035 | Accuracy: 0.6649\n",
      "Epoch [21/200] | Loss: 1.7947 | Accuracy: 0.6872\n",
      "Epoch [22/200] | Loss: 1.7890 | Accuracy: 0.6731\n",
      "Epoch [23/200] | Loss: 1.7808 | Accuracy: 0.6881\n",
      "Epoch [24/200] | Loss: 1.7775 | Accuracy: 0.7025\n",
      "Epoch [25/200] | Loss: 1.7696 | Accuracy: 0.6964\n",
      "Epoch [26/200] | Loss: 1.7636 | Accuracy: 0.7055\n",
      "Epoch [27/200] | Loss: 1.7600 | Accuracy: 0.7123\n",
      "Epoch [28/200] | Loss: 1.7506 | Accuracy: 0.7210\n",
      "Epoch [29/200] | Loss: 1.7465 | Accuracy: 0.7223\n",
      "Epoch [30/200] | Loss: 1.7397 | Accuracy: 0.7313\n",
      "Epoch [31/200] | Loss: 1.7366 | Accuracy: 0.7338\n",
      "Epoch [32/200] | Loss: 1.7306 | Accuracy: 0.7402\n",
      "Epoch [33/200] | Loss: 1.7276 | Accuracy: 0.7439\n",
      "Epoch [34/200] | Loss: 1.7232 | Accuracy: 0.7478\n",
      "Epoch [35/200] | Loss: 1.7209 | Accuracy: 0.7480\n",
      "Epoch [36/200] | Loss: 1.7180 | Accuracy: 0.7502\n",
      "Epoch [37/200] | Loss: 1.7161 | Accuracy: 0.7519\n",
      "Epoch [38/200] | Loss: 1.7130 | Accuracy: 0.7543\n",
      "Epoch [39/200] | Loss: 1.7110 | Accuracy: 0.7553\n",
      "Epoch [40/200] | Loss: 1.7087 | Accuracy: 0.7572\n",
      "Epoch [41/200] | Loss: 1.7068 | Accuracy: 0.7587\n",
      "Epoch [42/200] | Loss: 1.7053 | Accuracy: 0.7594\n",
      "Epoch [43/200] | Loss: 1.7035 | Accuracy: 0.7602\n",
      "Epoch [44/200] | Loss: 1.7024 | Accuracy: 0.7612\n",
      "Epoch [45/200] | Loss: 1.7007 | Accuracy: 0.7626\n",
      "Epoch [46/200] | Loss: 1.6995 | Accuracy: 0.7643\n",
      "Epoch [47/200] | Loss: 1.6981 | Accuracy: 0.7654\n",
      "Epoch [48/200] | Loss: 1.6969 | Accuracy: 0.7666\n",
      "Epoch [49/200] | Loss: 1.6957 | Accuracy: 0.7677\n",
      "Epoch [50/200] | Loss: 1.6944 | Accuracy: 0.7682\n",
      "Epoch [51/200] | Loss: 1.6933 | Accuracy: 0.7698\n",
      "Epoch [52/200] | Loss: 1.6921 | Accuracy: 0.7711\n",
      "Epoch [53/200] | Loss: 1.6908 | Accuracy: 0.7722\n",
      "Epoch [54/200] | Loss: 1.6897 | Accuracy: 0.7733\n",
      "Epoch [55/200] | Loss: 1.6884 | Accuracy: 0.7748\n",
      "Epoch [56/200] | Loss: 1.6870 | Accuracy: 0.7765\n",
      "Epoch [57/200] | Loss: 1.6857 | Accuracy: 0.7778\n",
      "Epoch [58/200] | Loss: 1.6844 | Accuracy: 0.7786\n",
      "Epoch [59/200] | Loss: 1.6836 | Accuracy: 0.7799\n",
      "Epoch [60/200] | Loss: 1.6825 | Accuracy: 0.7807\n",
      "Epoch [61/200] | Loss: 1.6812 | Accuracy: 0.7824\n",
      "Epoch [62/200] | Loss: 1.6802 | Accuracy: 0.7833\n",
      "Epoch [63/200] | Loss: 1.6795 | Accuracy: 0.7842\n",
      "Epoch [64/200] | Loss: 1.6784 | Accuracy: 0.7848\n",
      "Epoch [65/200] | Loss: 1.6772 | Accuracy: 0.7863\n",
      "Epoch [66/200] | Loss: 1.6765 | Accuracy: 0.7866\n",
      "Epoch [67/200] | Loss: 1.6760 | Accuracy: 0.7872\n",
      "Epoch [68/200] | Loss: 1.6761 | Accuracy: 0.7867\n",
      "Epoch [69/200] | Loss: 1.6750 | Accuracy: 0.7886\n",
      "Epoch [70/200] | Loss: 1.6734 | Accuracy: 0.7899\n",
      "Epoch [71/200] | Loss: 1.6730 | Accuracy: 0.7902\n",
      "Epoch [72/200] | Loss: 1.6730 | Accuracy: 0.7901\n",
      "Epoch [73/200] | Loss: 1.6717 | Accuracy: 0.7916\n",
      "Epoch [74/200] | Loss: 1.6704 | Accuracy: 0.7928\n",
      "Epoch [75/200] | Loss: 1.6701 | Accuracy: 0.7934\n",
      "Epoch [76/200] | Loss: 1.6700 | Accuracy: 0.7928\n",
      "Epoch [77/200] | Loss: 1.6692 | Accuracy: 0.7942\n",
      "Epoch [78/200] | Loss: 1.6681 | Accuracy: 0.7950\n",
      "Epoch [79/200] | Loss: 1.6678 | Accuracy: 0.7949\n",
      "Epoch [80/200] | Loss: 1.6675 | Accuracy: 0.7959\n",
      "Epoch [81/200] | Loss: 1.6669 | Accuracy: 0.7960\n",
      "Epoch [82/200] | Loss: 1.6660 | Accuracy: 0.7971\n",
      "Epoch [83/200] | Loss: 1.6653 | Accuracy: 0.7977\n",
      "Epoch [84/200] | Loss: 1.6650 | Accuracy: 0.7977\n",
      "Epoch [85/200] | Loss: 1.6648 | Accuracy: 0.7984\n",
      "Epoch [86/200] | Loss: 1.6643 | Accuracy: 0.7987\n",
      "Epoch [87/200] | Loss: 1.6639 | Accuracy: 0.7993\n",
      "Epoch [88/200] | Loss: 1.6637 | Accuracy: 0.7987\n",
      "Epoch [89/200] | Loss: 1.6637 | Accuracy: 0.7997\n",
      "Epoch [90/200] | Loss: 1.6638 | Accuracy: 0.7991\n",
      "Epoch [91/200] | Loss: 1.6640 | Accuracy: 0.7989\n",
      "Epoch [92/200] | Loss: 1.6627 | Accuracy: 0.8003\n",
      "Epoch [93/200] | Loss: 1.6610 | Accuracy: 0.8020\n",
      "Epoch [94/200] | Loss: 1.6604 | Accuracy: 0.8024\n",
      "Epoch [95/200] | Loss: 1.6609 | Accuracy: 0.8017\n",
      "Epoch [96/200] | Loss: 1.6615 | Accuracy: 0.8016\n",
      "Epoch [97/200] | Loss: 1.6600 | Accuracy: 0.8029\n",
      "Epoch [98/200] | Loss: 1.6588 | Accuracy: 0.8038\n",
      "Epoch [99/200] | Loss: 1.6585 | Accuracy: 0.8040\n",
      "Epoch [100/200] | Loss: 1.6586 | Accuracy: 0.8046\n",
      "Epoch [101/200] | Loss: 1.6585 | Accuracy: 0.8042\n",
      "Epoch [102/200] | Loss: 1.6577 | Accuracy: 0.8054\n",
      "Epoch [103/200] | Loss: 1.6572 | Accuracy: 0.8055\n",
      "Epoch [104/200] | Loss: 1.6565 | Accuracy: 0.8065\n",
      "Epoch [105/200] | Loss: 1.6563 | Accuracy: 0.8070\n",
      "Epoch [106/200] | Loss: 1.6562 | Accuracy: 0.8065\n",
      "Epoch [107/200] | Loss: 1.6559 | Accuracy: 0.8074\n",
      "Epoch [108/200] | Loss: 1.6557 | Accuracy: 0.8070\n",
      "Epoch [109/200] | Loss: 1.6552 | Accuracy: 0.8079\n",
      "Epoch [110/200] | Loss: 1.6553 | Accuracy: 0.8078\n",
      "Epoch [111/200] | Loss: 1.6548 | Accuracy: 0.8083\n",
      "Epoch [112/200] | Loss: 1.6553 | Accuracy: 0.8074\n",
      "Epoch [113/200] | Loss: 1.6550 | Accuracy: 0.8081\n",
      "Epoch [114/200] | Loss: 1.6551 | Accuracy: 0.8077\n",
      "Epoch [115/200] | Loss: 1.6537 | Accuracy: 0.8093\n",
      "Epoch [116/200] | Loss: 1.6529 | Accuracy: 0.8099\n",
      "Epoch [117/200] | Loss: 1.6522 | Accuracy: 0.8108\n",
      "Epoch [118/200] | Loss: 1.6521 | Accuracy: 0.8113\n",
      "Epoch [119/200] | Loss: 1.6524 | Accuracy: 0.8104\n",
      "Epoch [120/200] | Loss: 1.6522 | Accuracy: 0.8106\n",
      "Epoch [121/200] | Loss: 1.6523 | Accuracy: 0.8103\n",
      "Epoch [122/200] | Loss: 1.6514 | Accuracy: 0.8118\n",
      "Epoch [123/200] | Loss: 1.6510 | Accuracy: 0.8119\n",
      "Epoch [124/200] | Loss: 1.6504 | Accuracy: 0.8131\n",
      "Epoch [125/200] | Loss: 1.6502 | Accuracy: 0.8128\n",
      "Epoch [126/200] | Loss: 1.6499 | Accuracy: 0.8137\n",
      "Epoch [127/200] | Loss: 1.6504 | Accuracy: 0.8124\n",
      "Epoch [128/200] | Loss: 1.6507 | Accuracy: 0.8124\n",
      "Epoch [129/200] | Loss: 1.6523 | Accuracy: 0.8103\n",
      "Epoch [130/200] | Loss: 1.6509 | Accuracy: 0.8117\n",
      "Epoch [131/200] | Loss: 1.6501 | Accuracy: 0.8124\n",
      "Epoch [132/200] | Loss: 1.6484 | Accuracy: 0.8149\n",
      "Epoch [133/200] | Loss: 1.6476 | Accuracy: 0.8155\n",
      "Epoch [134/200] | Loss: 1.6475 | Accuracy: 0.8153\n",
      "Epoch [135/200] | Loss: 1.6476 | Accuracy: 0.8155\n",
      "Epoch [136/200] | Loss: 1.6482 | Accuracy: 0.8146\n",
      "Epoch [137/200] | Loss: 1.6478 | Accuracy: 0.8154\n",
      "Epoch [138/200] | Loss: 1.6476 | Accuracy: 0.8152\n",
      "Epoch [139/200] | Loss: 1.6468 | Accuracy: 0.8166\n",
      "Epoch [140/200] | Loss: 1.6462 | Accuracy: 0.8168\n",
      "Epoch [141/200] | Loss: 1.6456 | Accuracy: 0.8175\n",
      "Epoch [142/200] | Loss: 1.6454 | Accuracy: 0.8178\n",
      "Epoch [143/200] | Loss: 1.6451 | Accuracy: 0.8180\n",
      "Epoch [144/200] | Loss: 1.6448 | Accuracy: 0.8186\n",
      "Epoch [145/200] | Loss: 1.6448 | Accuracy: 0.8184\n",
      "Epoch [146/200] | Loss: 1.6449 | Accuracy: 0.8186\n",
      "Epoch [147/200] | Loss: 1.6462 | Accuracy: 0.8164\n",
      "Epoch [148/200] | Loss: 1.6475 | Accuracy: 0.8152\n",
      "Epoch [149/200] | Loss: 1.6533 | Accuracy: 0.8088\n",
      "Epoch [150/200] | Loss: 1.6460 | Accuracy: 0.8175\n",
      "Epoch [151/200] | Loss: 1.6434 | Accuracy: 0.8197\n",
      "Epoch [152/200] | Loss: 1.6457 | Accuracy: 0.8168\n",
      "Epoch [153/200] | Loss: 1.6471 | Accuracy: 0.8159\n",
      "Epoch [154/200] | Loss: 1.6485 | Accuracy: 0.8141\n",
      "Epoch [155/200] | Loss: 1.6431 | Accuracy: 0.8199\n",
      "Epoch [156/200] | Loss: 1.6465 | Accuracy: 0.8165\n",
      "Epoch [157/200] | Loss: 1.6544 | Accuracy: 0.8075\n",
      "Epoch [158/200] | Loss: 1.6428 | Accuracy: 0.8203\n",
      "Epoch [159/200] | Loss: 1.6563 | Accuracy: 0.8058\n",
      "Epoch [160/200] | Loss: 1.6557 | Accuracy: 0.8060\n",
      "Epoch [161/200] | Loss: 1.6492 | Accuracy: 0.8129\n",
      "Epoch [162/200] | Loss: 1.6582 | Accuracy: 0.8040\n",
      "Epoch [163/200] | Loss: 1.6440 | Accuracy: 0.8180\n",
      "Epoch [164/200] | Loss: 1.6506 | Accuracy: 0.8111\n",
      "Epoch [165/200] | Loss: 1.6428 | Accuracy: 0.8198\n",
      "Epoch [166/200] | Loss: 1.6499 | Accuracy: 0.8122\n",
      "Epoch [167/200] | Loss: 1.6450 | Accuracy: 0.8170\n",
      "Epoch [168/200] | Loss: 1.6480 | Accuracy: 0.8135\n",
      "Epoch [169/200] | Loss: 1.6427 | Accuracy: 0.8201\n",
      "Epoch [170/200] | Loss: 1.6467 | Accuracy: 0.8157\n",
      "Epoch [171/200] | Loss: 1.6444 | Accuracy: 0.8179\n",
      "Epoch [172/200] | Loss: 1.6456 | Accuracy: 0.8168\n",
      "Epoch [173/200] | Loss: 1.6422 | Accuracy: 0.8202\n",
      "Epoch [174/200] | Loss: 1.6442 | Accuracy: 0.8180\n",
      "Epoch [175/200] | Loss: 1.6426 | Accuracy: 0.8194\n",
      "Epoch [176/200] | Loss: 1.6436 | Accuracy: 0.8185\n",
      "Epoch [177/200] | Loss: 1.6409 | Accuracy: 0.8217\n",
      "Epoch [178/200] | Loss: 1.6427 | Accuracy: 0.8199\n",
      "Epoch [179/200] | Loss: 1.6413 | Accuracy: 0.8210\n",
      "Epoch [180/200] | Loss: 1.6420 | Accuracy: 0.8202\n",
      "Epoch [181/200] | Loss: 1.6405 | Accuracy: 0.8222\n",
      "Epoch [182/200] | Loss: 1.6406 | Accuracy: 0.8216\n",
      "Epoch [183/200] | Loss: 1.6406 | Accuracy: 0.8216\n",
      "Epoch [184/200] | Loss: 1.6401 | Accuracy: 0.8220\n",
      "Epoch [185/200] | Loss: 1.6403 | Accuracy: 0.8226\n",
      "Epoch [186/200] | Loss: 1.6387 | Accuracy: 0.8239\n",
      "Epoch [187/200] | Loss: 1.6396 | Accuracy: 0.8227\n",
      "Epoch [188/200] | Loss: 1.6383 | Accuracy: 0.8244\n",
      "Epoch [189/200] | Loss: 1.6395 | Accuracy: 0.8233\n",
      "Epoch [190/200] | Loss: 1.6383 | Accuracy: 0.8244\n",
      "Epoch [191/200] | Loss: 1.6384 | Accuracy: 0.8243\n",
      "Epoch [192/200] | Loss: 1.6383 | Accuracy: 0.8241\n",
      "Epoch [193/200] | Loss: 1.6377 | Accuracy: 0.8248\n",
      "Epoch [194/200] | Loss: 1.6378 | Accuracy: 0.8247\n",
      "Epoch [195/200] | Loss: 1.6374 | Accuracy: 0.8250\n",
      "Epoch [196/200] | Loss: 1.6372 | Accuracy: 0.8254\n",
      "Epoch [197/200] | Loss: 1.6372 | Accuracy: 0.8255\n",
      "Epoch [198/200] | Loss: 1.6369 | Accuracy: 0.8259\n",
      "Epoch [199/200] | Loss: 1.6366 | Accuracy: 0.8257\n",
      "Epoch [200/200] | Loss: 1.6367 | Accuracy: 0.8261\n"
     ]
    }
   ],
   "source": [
    "# training\n",
    "model = Sequential()\n",
    "\n",
    "model.add_module('nn1', Linear(784, 64))\n",
    "model.add_module('relu1', ReLU())\n",
    "\n",
    "model.add_module('nn2', Linear(64, 32))\n",
    "model.add_module('relu2', ReLU())\n",
    "\n",
    "model.add_module('nn3', Linear(32, 10))\n",
    "model.add_module('soft3', Softmax(dim=1))\n",
    "\n",
    "loss_fn = CrossEntropyLoss()\n",
    "optimizer = Adam(model.parameters(), lr=0.01)\n",
    "\n",
    "for epoch in range(200):\n",
    "    optimizer.zero_grad()\n",
    "    hx = model(x)\n",
    "    cost = loss_fn(hx, y)\n",
    "    cost.backward()\n",
    "    optimizer.step()\n",
    "\n",
    "    _, idx = hx.max(dim=1)\n",
    "    pred = idx.numpy()\n",
    "    accuracy = accuracy_score(y.numpy(), pred)\n",
    "\n",
    "    print(f'Epoch [{epoch + 1}/200] | Loss: {cost.item():.4f} | Accuracy: {accuracy:.4f}')"
   ]
  },
  {
   "cell_type": "markdown",
   "metadata": {},
   "source": [
    "---"
   ]
  },
  {
   "cell_type": "markdown",
   "metadata": {},
   "source": [
    "### 3️⃣ x_test 0번째 이미지의 예측값 확인"
   ]
  },
  {
   "cell_type": "code",
   "execution_count": null,
   "metadata": {},
   "outputs": [
    {
     "name": "stdout",
     "output_type": "stream",
     "text": [
      "This image is [ankle boot]\n"
     ]
    }
   ],
   "source": [
    "# predict of x_test first image\n",
    "print(f'This image is [{text_labels[y_test[0]]}]')"
   ]
  },
  {
   "cell_type": "markdown",
   "metadata": {},
   "source": [
    "---"
   ]
  }
 ],
 "metadata": {
  "kernelspec": {
   "display_name": "Python 3",
   "language": "python",
   "name": "python3"
  },
  "language_info": {
   "codemirror_mode": {
    "name": "ipython",
    "version": 3
   },
   "file_extension": ".py",
   "mimetype": "text/x-python",
   "name": "python",
   "nbconvert_exporter": "python",
   "pygments_lexer": "ipython3",
   "version": "3.8.10"
  }
 },
 "nbformat": 4,
 "nbformat_minor": 2
}
