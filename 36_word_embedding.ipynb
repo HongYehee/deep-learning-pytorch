{
 "cells": [
  {
   "cell_type": "markdown",
   "id": "569af9cb",
   "metadata": {},
   "source": [
    "### Word Embedding: text to int"
   ]
  },
  {
   "cell_type": "code",
   "execution_count": 1,
   "id": "36208c5f-0e68-498f-930e-bb1a7f64bd27",
   "metadata": {},
   "outputs": [],
   "source": [
    "# import libraries\n",
    "import pandas as pd\n",
    "import numpy as np\n",
    "from gensim.models import Word2Vec # 유사도 측정\n",
    "from ast import literal_eval"
   ]
  },
  {
   "cell_type": "code",
   "execution_count": 3,
   "id": "9a165f94-2651-4a6c-924b-33134ac5f837",
   "metadata": {},
   "outputs": [
    {
     "data": {
      "text/html": [
       "<div>\n",
       "<style scoped>\n",
       "    .dataframe tbody tr th:only-of-type {\n",
       "        vertical-align: middle;\n",
       "    }\n",
       "\n",
       "    .dataframe tbody tr th {\n",
       "        vertical-align: top;\n",
       "    }\n",
       "\n",
       "    .dataframe thead th {\n",
       "        text-align: right;\n",
       "    }\n",
       "</style>\n",
       "<table border=\"1\" class=\"dataframe\">\n",
       "  <thead>\n",
       "    <tr style=\"text-align: right;\">\n",
       "      <th></th>\n",
       "      <th>token_final</th>\n",
       "      <th>label</th>\n",
       "    </tr>\n",
       "  </thead>\n",
       "  <tbody>\n",
       "    <tr>\n",
       "      <th>0</th>\n",
       "      <td>[서울, 지방, 병무청, 탈의실, 설치, 대한, 진상, 규명, 요구, 또한, 인권위...</td>\n",
       "      <td>NO</td>\n",
       "    </tr>\n",
       "    <tr>\n",
       "      <th>1</th>\n",
       "      <td>[주식시장, 활성화, 및, 소액, 개미, 투자자, 보호, 우리, 나라, 코스피, 총...</td>\n",
       "      <td>NO</td>\n",
       "    </tr>\n",
       "    <tr>\n",
       "      <th>2</th>\n",
       "      <td>[교정, 기관, 민낮, 일로, 국민, 청원, 신청, 저, 구치소, 교도관, 이주, ...</td>\n",
       "      <td>NO</td>\n",
       "    </tr>\n",
       "    <tr>\n",
       "      <th>3</th>\n",
       "      <td>[미세먼지, 감, 대책, 미세먼지, 심각, 성은, 이제, 적극, 대안, 요구, 우리...</td>\n",
       "      <td>NO</td>\n",
       "    </tr>\n",
       "    <tr>\n",
       "      <th>4</th>\n",
       "      <td>[악질, 입자, 방지, 위, 입자, 보호, 법, 재정, 저, 우선, 아이, 셋, 부...</td>\n",
       "      <td>YES</td>\n",
       "    </tr>\n",
       "  </tbody>\n",
       "</table>\n",
       "</div>"
      ],
      "text/plain": [
       "                                         token_final label\n",
       "0  [서울, 지방, 병무청, 탈의실, 설치, 대한, 진상, 규명, 요구, 또한, 인권위...    NO\n",
       "1  [주식시장, 활성화, 및, 소액, 개미, 투자자, 보호, 우리, 나라, 코스피, 총...    NO\n",
       "2  [교정, 기관, 민낮, 일로, 국민, 청원, 신청, 저, 구치소, 교도관, 이주, ...    NO\n",
       "3  [미세먼지, 감, 대책, 미세먼지, 심각, 성은, 이제, 적극, 대안, 요구, 우리...    NO\n",
       "4  [악질, 입자, 방지, 위, 입자, 보호, 법, 재정, 저, 우선, 아이, 셋, 부...   YES"
      ]
     },
     "execution_count": 3,
     "metadata": {},
     "output_type": "execute_result"
    }
   ],
   "source": [
    "# load tokenized data\n",
    "df_drop = pd.read_csv('data/df_drop.csv')\n",
    "\n",
    "# read as text list data\n",
    "df_drop['token_final'] = df_drop['token_final'].apply(literal_eval)\n",
    "df_drop.head()"
   ]
  },
  {
   "cell_type": "code",
   "execution_count": 4,
   "id": "8d8f6590-c7f2-4d7e-a0b2-b75b7471d2e5",
   "metadata": {},
   "outputs": [
    {
     "data": {
      "text/plain": [
       "<gensim.models.word2vec.Word2Vec at 0x21ded5d8ee0>"
      ]
     },
     "execution_count": 4,
     "metadata": {},
     "output_type": "execute_result"
    }
   ],
   "source": [
    "# make word2vec model\n",
    "embedding_model = Word2Vec(df_drop['token_final'], size=100, min_count=1)\n",
    "embedding_model"
   ]
  },
  {
   "cell_type": "code",
   "execution_count": 5,
   "id": "3b90af13-0bac-45e2-a74c-3c143794d401",
   "metadata": {},
   "outputs": [
    {
     "data": {
      "text/plain": [
       "[('실제', 0.9990725517272949),\n",
       " ('명의', 0.9990381598472595),\n",
       " ('명목', 0.9990183115005493),\n",
       " ('몰래', 0.9989866018295288),\n",
       " ('간', 0.9989761114120483),\n",
       " ('단지', 0.9989548921585083),\n",
       " ('채', 0.9989538192749023),\n",
       " ('허리', 0.998930811882019),\n",
       " ('입사', 0.9989302158355713),\n",
       " ('측', 0.998921811580658)]"
      ]
     },
     "execution_count": 5,
     "metadata": {},
     "output_type": "execute_result"
    }
   ],
   "source": [
    "embedding_model.wv.similar_by_word('음주운전')"
   ]
  },
  {
   "cell_type": "code",
   "execution_count": null,
   "id": "a05e0bd6-1586-4b56-bbaf-44cd06de0388",
   "metadata": {},
   "outputs": [],
   "source": [
    "# save\n",
    "from gensim.models import KeyedVectors\n",
    "\n",
    "embedding_model.wv.save_word2vec_format('data/petitions_tokens_w2v.txt')"
   ]
  },
  {
   "cell_type": "code",
   "execution_count": null,
   "id": "43d0f342-7116-4726-9395-b730c9a2eca8",
   "metadata": {},
   "outputs": [],
   "source": [
    "# restore\n",
    "loaded_model = KeyedVectors.load_word2vec_format('data/petitions_tokens_w2v.txt')"
   ]
  },
  {
   "cell_type": "code",
   "execution_count": 11,
   "id": "9da0226b-3f73-4833-a324-57b7d9c2f734",
   "metadata": {},
   "outputs": [
    {
     "name": "stderr",
     "output_type": "stream",
     "text": [
      "C:\\Users\\Public\\Documents\\ESTsoft\\CreatorTemp\\ipykernel_6284\\220389500.py:1: DeprecationWarning: Call to deprecated `wv` (Attribute will be removed in 4.0.0, use self instead).\n",
      "  loaded_model.wv.similar_by_word('음주운전')\n"
     ]
    },
    {
     "data": {
      "text/plain": [
       "[('음주', 0.916106104850769),\n",
       " ('무면허', 0.8828456401824951),\n",
       " ('뺑소니', 0.8390348553657532),\n",
       " ('살인', 0.8155409693717957),\n",
       " ('살인죄', 0.8144370913505554),\n",
       " ('운전자', 0.7995503544807434),\n",
       " ('상해', 0.7840113639831543),\n",
       " ('승자', 0.7743127346038818),\n",
       " ('교통사고', 0.7709013223648071),\n",
       " ('촉법소년', 0.7634548544883728)]"
      ]
     },
     "execution_count": 11,
     "metadata": {},
     "output_type": "execute_result"
    }
   ],
   "source": [
    "loaded_model.wv.similar_by_word('음주운전')"
   ]
  },
  {
   "cell_type": "code",
   "execution_count": 12,
   "id": "5e32d10d-354e-45fc-b0d2-ac7bbc6523e3",
   "metadata": {},
   "outputs": [
    {
     "name": "stdout",
     "output_type": "stream",
     "text": [
      "Word2Vec(vocab=38631, size=100, alpha=0.025)\n"
     ]
    }
   ],
   "source": [
    "print(embedding_model)"
   ]
  }
 ],
 "metadata": {
  "kernelspec": {
   "display_name": "Python 3",
   "language": "python",
   "name": "python3"
  },
  "language_info": {
   "codemirror_mode": {
    "name": "ipython",
    "version": 3
   },
   "file_extension": ".py",
   "mimetype": "text/x-python",
   "name": "python",
   "nbconvert_exporter": "python",
   "pygments_lexer": "ipython3",
   "version": "3.8.10"
  }
 },
 "nbformat": 4,
 "nbformat_minor": 5
}
